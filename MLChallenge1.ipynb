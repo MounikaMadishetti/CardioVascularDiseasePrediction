{
 "cells": [
  {
   "cell_type": "code",
   "execution_count": 3,
   "metadata": {
    "collapsed": true
   },
   "outputs": [],
   "source": [
    "import pandas as pd\n",
    "import numpy as np\n",
    "import matplotlib.pyplot as plt\n",
    "%matplotlib inline\n",
    "import seaborn as sns"
   ]
  },
  {
   "cell_type": "code",
   "execution_count": 4,
   "metadata": {
    "collapsed": true
   },
   "outputs": [],
   "source": [
    "df = pd.read_csv('C:/Users/Mounika/Desktop/CardioVascularDisease/cardio_train.csv', sep = ';')"
   ]
  },
  {
   "cell_type": "code",
   "execution_count": 3,
   "metadata": {},
   "outputs": [
    {
     "data": {
      "text/plain": [
       "pandas.core.frame.DataFrame"
      ]
     },
     "execution_count": 3,
     "metadata": {},
     "output_type": "execute_result"
    }
   ],
   "source": [
    "type(df)"
   ]
  },
  {
   "cell_type": "code",
   "execution_count": 4,
   "metadata": {},
   "outputs": [
    {
     "data": {
      "text/plain": [
       "(69301, 13)"
      ]
     },
     "execution_count": 4,
     "metadata": {},
     "output_type": "execute_result"
    }
   ],
   "source": [
    "df.shape"
   ]
  },
  {
   "cell_type": "code",
   "execution_count": 5,
   "metadata": {},
   "outputs": [
    {
     "data": {
      "text/html": [
       "<div>\n",
       "<style>\n",
       "    .dataframe thead tr:only-child th {\n",
       "        text-align: right;\n",
       "    }\n",
       "\n",
       "    .dataframe thead th {\n",
       "        text-align: left;\n",
       "    }\n",
       "\n",
       "    .dataframe tbody tr th {\n",
       "        vertical-align: top;\n",
       "    }\n",
       "</style>\n",
       "<table border=\"1\" class=\"dataframe\">\n",
       "  <thead>\n",
       "    <tr style=\"text-align: right;\">\n",
       "      <th></th>\n",
       "      <th>id</th>\n",
       "      <th>age</th>\n",
       "      <th>gender</th>\n",
       "      <th>height</th>\n",
       "      <th>weight</th>\n",
       "      <th>ap_hi</th>\n",
       "      <th>ap_lo</th>\n",
       "      <th>cholesterol</th>\n",
       "      <th>gluc</th>\n",
       "      <th>smoke</th>\n",
       "      <th>alco</th>\n",
       "      <th>active</th>\n",
       "      <th>cardio</th>\n",
       "    </tr>\n",
       "  </thead>\n",
       "  <tbody>\n",
       "    <tr>\n",
       "      <th>0</th>\n",
       "      <td>988</td>\n",
       "      <td>22469</td>\n",
       "      <td>1</td>\n",
       "      <td>155</td>\n",
       "      <td>69.0</td>\n",
       "      <td>130</td>\n",
       "      <td>80</td>\n",
       "      <td>2</td>\n",
       "      <td>2</td>\n",
       "      <td>0</td>\n",
       "      <td>0</td>\n",
       "      <td>1</td>\n",
       "      <td>0</td>\n",
       "    </tr>\n",
       "    <tr>\n",
       "      <th>1</th>\n",
       "      <td>989</td>\n",
       "      <td>14648</td>\n",
       "      <td>1</td>\n",
       "      <td>163</td>\n",
       "      <td>71.0</td>\n",
       "      <td>110</td>\n",
       "      <td>70</td>\n",
       "      <td>1</td>\n",
       "      <td>1</td>\n",
       "      <td>0</td>\n",
       "      <td>0</td>\n",
       "      <td>1</td>\n",
       "      <td>1</td>\n",
       "    </tr>\n",
       "    <tr>\n",
       "      <th>2</th>\n",
       "      <td>990</td>\n",
       "      <td>21901</td>\n",
       "      <td>1</td>\n",
       "      <td>165</td>\n",
       "      <td>70.0</td>\n",
       "      <td>120</td>\n",
       "      <td>80</td>\n",
       "      <td>1</td>\n",
       "      <td>1</td>\n",
       "      <td>0</td>\n",
       "      <td>0</td>\n",
       "      <td>1</td>\n",
       "      <td>0</td>\n",
       "    </tr>\n",
       "    <tr>\n",
       "      <th>3</th>\n",
       "      <td>991</td>\n",
       "      <td>14549</td>\n",
       "      <td>2</td>\n",
       "      <td>165</td>\n",
       "      <td>85.0</td>\n",
       "      <td>120</td>\n",
       "      <td>80</td>\n",
       "      <td>1</td>\n",
       "      <td>1</td>\n",
       "      <td>1</td>\n",
       "      <td>1</td>\n",
       "      <td>1</td>\n",
       "      <td>0</td>\n",
       "    </tr>\n",
       "    <tr>\n",
       "      <th>4</th>\n",
       "      <td>992</td>\n",
       "      <td>23393</td>\n",
       "      <td>1</td>\n",
       "      <td>155</td>\n",
       "      <td>62.0</td>\n",
       "      <td>120</td>\n",
       "      <td>80</td>\n",
       "      <td>1</td>\n",
       "      <td>1</td>\n",
       "      <td>0</td>\n",
       "      <td>0</td>\n",
       "      <td>1</td>\n",
       "      <td>0</td>\n",
       "    </tr>\n",
       "  </tbody>\n",
       "</table>\n",
       "</div>"
      ],
      "text/plain": [
       "    id    age  gender  height  weight  ap_hi  ap_lo  cholesterol  gluc  smoke  \\\n",
       "0  988  22469       1     155    69.0    130     80            2     2      0   \n",
       "1  989  14648       1     163    71.0    110     70            1     1      0   \n",
       "2  990  21901       1     165    70.0    120     80            1     1      0   \n",
       "3  991  14549       2     165    85.0    120     80            1     1      1   \n",
       "4  992  23393       1     155    62.0    120     80            1     1      0   \n",
       "\n",
       "   alco  active  cardio  \n",
       "0     0       1       0  \n",
       "1     0       1       1  \n",
       "2     0       1       0  \n",
       "3     1       1       0  \n",
       "4     0       1       0  "
      ]
     },
     "execution_count": 5,
     "metadata": {},
     "output_type": "execute_result"
    }
   ],
   "source": [
    "df.head()"
   ]
  },
  {
   "cell_type": "code",
   "execution_count": 6,
   "metadata": {},
   "outputs": [
    {
     "data": {
      "text/html": [
       "<div>\n",
       "<style>\n",
       "    .dataframe thead tr:only-child th {\n",
       "        text-align: right;\n",
       "    }\n",
       "\n",
       "    .dataframe thead th {\n",
       "        text-align: left;\n",
       "    }\n",
       "\n",
       "    .dataframe tbody tr th {\n",
       "        vertical-align: top;\n",
       "    }\n",
       "</style>\n",
       "<table border=\"1\" class=\"dataframe\">\n",
       "  <thead>\n",
       "    <tr style=\"text-align: right;\">\n",
       "      <th></th>\n",
       "      <th>id</th>\n",
       "      <th>age</th>\n",
       "      <th>gender</th>\n",
       "      <th>height</th>\n",
       "      <th>weight</th>\n",
       "      <th>ap_hi</th>\n",
       "      <th>ap_lo</th>\n",
       "      <th>cholesterol</th>\n",
       "      <th>gluc</th>\n",
       "      <th>smoke</th>\n",
       "      <th>alco</th>\n",
       "      <th>active</th>\n",
       "      <th>cardio</th>\n",
       "    </tr>\n",
       "  </thead>\n",
       "  <tbody>\n",
       "    <tr>\n",
       "      <th>count</th>\n",
       "      <td>69301.000000</td>\n",
       "      <td>69301.000000</td>\n",
       "      <td>69301.000000</td>\n",
       "      <td>69301.000000</td>\n",
       "      <td>69301.000000</td>\n",
       "      <td>69301.000000</td>\n",
       "      <td>69301.000000</td>\n",
       "      <td>69301.000000</td>\n",
       "      <td>69301.000000</td>\n",
       "      <td>69301.000000</td>\n",
       "      <td>69301.000000</td>\n",
       "      <td>69301.000000</td>\n",
       "      <td>69301.000000</td>\n",
       "    </tr>\n",
       "    <tr>\n",
       "      <th>mean</th>\n",
       "      <td>50471.480397</td>\n",
       "      <td>19468.786280</td>\n",
       "      <td>1.349519</td>\n",
       "      <td>164.362217</td>\n",
       "      <td>74.203027</td>\n",
       "      <td>128.829584</td>\n",
       "      <td>96.650092</td>\n",
       "      <td>1.366806</td>\n",
       "      <td>1.226447</td>\n",
       "      <td>0.088051</td>\n",
       "      <td>0.053881</td>\n",
       "      <td>0.803986</td>\n",
       "      <td>0.499589</td>\n",
       "    </tr>\n",
       "    <tr>\n",
       "      <th>std</th>\n",
       "      <td>28563.100347</td>\n",
       "      <td>2467.261818</td>\n",
       "      <td>0.476821</td>\n",
       "      <td>8.205337</td>\n",
       "      <td>14.383469</td>\n",
       "      <td>154.775805</td>\n",
       "      <td>189.096240</td>\n",
       "      <td>0.680270</td>\n",
       "      <td>0.572246</td>\n",
       "      <td>0.283371</td>\n",
       "      <td>0.225784</td>\n",
       "      <td>0.396982</td>\n",
       "      <td>0.500003</td>\n",
       "    </tr>\n",
       "    <tr>\n",
       "      <th>min</th>\n",
       "      <td>988.000000</td>\n",
       "      <td>10798.000000</td>\n",
       "      <td>1.000000</td>\n",
       "      <td>55.000000</td>\n",
       "      <td>10.000000</td>\n",
       "      <td>-150.000000</td>\n",
       "      <td>-70.000000</td>\n",
       "      <td>1.000000</td>\n",
       "      <td>1.000000</td>\n",
       "      <td>0.000000</td>\n",
       "      <td>0.000000</td>\n",
       "      <td>0.000000</td>\n",
       "      <td>0.000000</td>\n",
       "    </tr>\n",
       "    <tr>\n",
       "      <th>25%</th>\n",
       "      <td>25745.000000</td>\n",
       "      <td>17664.000000</td>\n",
       "      <td>1.000000</td>\n",
       "      <td>159.000000</td>\n",
       "      <td>65.000000</td>\n",
       "      <td>120.000000</td>\n",
       "      <td>80.000000</td>\n",
       "      <td>1.000000</td>\n",
       "      <td>1.000000</td>\n",
       "      <td>0.000000</td>\n",
       "      <td>0.000000</td>\n",
       "      <td>1.000000</td>\n",
       "      <td>0.000000</td>\n",
       "    </tr>\n",
       "    <tr>\n",
       "      <th>50%</th>\n",
       "      <td>50494.000000</td>\n",
       "      <td>19704.000000</td>\n",
       "      <td>1.000000</td>\n",
       "      <td>165.000000</td>\n",
       "      <td>72.000000</td>\n",
       "      <td>120.000000</td>\n",
       "      <td>80.000000</td>\n",
       "      <td>1.000000</td>\n",
       "      <td>1.000000</td>\n",
       "      <td>0.000000</td>\n",
       "      <td>0.000000</td>\n",
       "      <td>1.000000</td>\n",
       "      <td>0.000000</td>\n",
       "    </tr>\n",
       "    <tr>\n",
       "      <th>75%</th>\n",
       "      <td>75150.000000</td>\n",
       "      <td>21326.000000</td>\n",
       "      <td>2.000000</td>\n",
       "      <td>170.000000</td>\n",
       "      <td>82.000000</td>\n",
       "      <td>140.000000</td>\n",
       "      <td>90.000000</td>\n",
       "      <td>2.000000</td>\n",
       "      <td>1.000000</td>\n",
       "      <td>0.000000</td>\n",
       "      <td>0.000000</td>\n",
       "      <td>1.000000</td>\n",
       "      <td>1.000000</td>\n",
       "    </tr>\n",
       "    <tr>\n",
       "      <th>max</th>\n",
       "      <td>99999.000000</td>\n",
       "      <td>23713.000000</td>\n",
       "      <td>2.000000</td>\n",
       "      <td>250.000000</td>\n",
       "      <td>200.000000</td>\n",
       "      <td>16020.000000</td>\n",
       "      <td>11000.000000</td>\n",
       "      <td>3.000000</td>\n",
       "      <td>3.000000</td>\n",
       "      <td>1.000000</td>\n",
       "      <td>1.000000</td>\n",
       "      <td>1.000000</td>\n",
       "      <td>1.000000</td>\n",
       "    </tr>\n",
       "  </tbody>\n",
       "</table>\n",
       "</div>"
      ],
      "text/plain": [
       "                 id           age        gender        height        weight  \\\n",
       "count  69301.000000  69301.000000  69301.000000  69301.000000  69301.000000   \n",
       "mean   50471.480397  19468.786280      1.349519    164.362217     74.203027   \n",
       "std    28563.100347   2467.261818      0.476821      8.205337     14.383469   \n",
       "min      988.000000  10798.000000      1.000000     55.000000     10.000000   \n",
       "25%    25745.000000  17664.000000      1.000000    159.000000     65.000000   \n",
       "50%    50494.000000  19704.000000      1.000000    165.000000     72.000000   \n",
       "75%    75150.000000  21326.000000      2.000000    170.000000     82.000000   \n",
       "max    99999.000000  23713.000000      2.000000    250.000000    200.000000   \n",
       "\n",
       "              ap_hi         ap_lo   cholesterol          gluc         smoke  \\\n",
       "count  69301.000000  69301.000000  69301.000000  69301.000000  69301.000000   \n",
       "mean     128.829584     96.650092      1.366806      1.226447      0.088051   \n",
       "std      154.775805    189.096240      0.680270      0.572246      0.283371   \n",
       "min     -150.000000    -70.000000      1.000000      1.000000      0.000000   \n",
       "25%      120.000000     80.000000      1.000000      1.000000      0.000000   \n",
       "50%      120.000000     80.000000      1.000000      1.000000      0.000000   \n",
       "75%      140.000000     90.000000      2.000000      1.000000      0.000000   \n",
       "max    16020.000000  11000.000000      3.000000      3.000000      1.000000   \n",
       "\n",
       "               alco        active        cardio  \n",
       "count  69301.000000  69301.000000  69301.000000  \n",
       "mean       0.053881      0.803986      0.499589  \n",
       "std        0.225784      0.396982      0.500003  \n",
       "min        0.000000      0.000000      0.000000  \n",
       "25%        0.000000      1.000000      0.000000  \n",
       "50%        0.000000      1.000000      0.000000  \n",
       "75%        0.000000      1.000000      1.000000  \n",
       "max        1.000000      1.000000      1.000000  "
      ]
     },
     "execution_count": 6,
     "metadata": {},
     "output_type": "execute_result"
    }
   ],
   "source": [
    "df.describe()"
   ]
  },
  {
   "cell_type": "code",
   "execution_count": 7,
   "metadata": {},
   "outputs": [
    {
     "name": "stdout",
     "output_type": "stream",
     "text": [
      "<class 'pandas.core.frame.DataFrame'>\n",
      "RangeIndex: 69301 entries, 0 to 69300\n",
      "Data columns (total 13 columns):\n",
      "id             69301 non-null int64\n",
      "age            69301 non-null int64\n",
      "gender         69301 non-null int64\n",
      "height         69301 non-null int64\n",
      "weight         69301 non-null float64\n",
      "ap_hi          69301 non-null int64\n",
      "ap_lo          69301 non-null int64\n",
      "cholesterol    69301 non-null int64\n",
      "gluc           69301 non-null int64\n",
      "smoke          69301 non-null int64\n",
      "alco           69301 non-null int64\n",
      "active         69301 non-null int64\n",
      "cardio         69301 non-null int64\n",
      "dtypes: float64(1), int64(12)\n",
      "memory usage: 6.9 MB\n"
     ]
    }
   ],
   "source": [
    "df.info()"
   ]
  },
  {
   "cell_type": "code",
   "execution_count": 8,
   "metadata": {},
   "outputs": [
    {
     "data": {
      "text/plain": [
       "count    69301.000000\n",
       "mean         0.499589\n",
       "std          0.500003\n",
       "min          0.000000\n",
       "25%          0.000000\n",
       "50%          0.000000\n",
       "75%          1.000000\n",
       "max          1.000000\n",
       "Name: cardio, dtype: float64"
      ]
     },
     "execution_count": 8,
     "metadata": {},
     "output_type": "execute_result"
    }
   ],
   "source": [
    "df['cardio'].describe()"
   ]
  },
  {
   "cell_type": "code",
   "execution_count": 9,
   "metadata": {},
   "outputs": [
    {
     "data": {
      "text/plain": [
       "array([0, 1], dtype=int64)"
      ]
     },
     "execution_count": 9,
     "metadata": {},
     "output_type": "execute_result"
    }
   ],
   "source": [
    "df['cardio'].unique()"
   ]
  },
  {
   "cell_type": "code",
   "execution_count": 12,
   "metadata": {},
   "outputs": [
    {
     "data": {
      "text/html": [
       "<div>\n",
       "<style>\n",
       "    .dataframe thead tr:only-child th {\n",
       "        text-align: right;\n",
       "    }\n",
       "\n",
       "    .dataframe thead th {\n",
       "        text-align: left;\n",
       "    }\n",
       "\n",
       "    .dataframe tbody tr th {\n",
       "        vertical-align: top;\n",
       "    }\n",
       "</style>\n",
       "<table border=\"1\" class=\"dataframe\">\n",
       "  <thead>\n",
       "    <tr style=\"text-align: right;\">\n",
       "      <th></th>\n",
       "      <th>id</th>\n",
       "      <th>age</th>\n",
       "      <th>gender</th>\n",
       "      <th>height</th>\n",
       "      <th>weight</th>\n",
       "      <th>ap_hi</th>\n",
       "      <th>ap_lo</th>\n",
       "      <th>cholesterol</th>\n",
       "      <th>gluc</th>\n",
       "      <th>smoke</th>\n",
       "      <th>alco</th>\n",
       "      <th>active</th>\n",
       "      <th>cardio</th>\n",
       "    </tr>\n",
       "  </thead>\n",
       "  <tbody>\n",
       "    <tr>\n",
       "      <th>id</th>\n",
       "      <td>1.000000</td>\n",
       "      <td>0.003587</td>\n",
       "      <td>0.003773</td>\n",
       "      <td>-0.003735</td>\n",
       "      <td>-0.001549</td>\n",
       "      <td>0.003268</td>\n",
       "      <td>-0.002757</td>\n",
       "      <td>0.006400</td>\n",
       "      <td>0.002543</td>\n",
       "      <td>-0.003294</td>\n",
       "      <td>0.000384</td>\n",
       "      <td>0.002700</td>\n",
       "      <td>0.004269</td>\n",
       "    </tr>\n",
       "    <tr>\n",
       "      <th>age</th>\n",
       "      <td>0.003587</td>\n",
       "      <td>1.000000</td>\n",
       "      <td>-0.023150</td>\n",
       "      <td>-0.081304</td>\n",
       "      <td>0.054409</td>\n",
       "      <td>0.020663</td>\n",
       "      <td>0.017717</td>\n",
       "      <td>0.154343</td>\n",
       "      <td>0.099095</td>\n",
       "      <td>-0.047680</td>\n",
       "      <td>-0.029435</td>\n",
       "      <td>-0.009926</td>\n",
       "      <td>0.238095</td>\n",
       "    </tr>\n",
       "    <tr>\n",
       "      <th>gender</th>\n",
       "      <td>0.003773</td>\n",
       "      <td>-0.023150</td>\n",
       "      <td>1.000000</td>\n",
       "      <td>0.499373</td>\n",
       "      <td>0.155649</td>\n",
       "      <td>0.005980</td>\n",
       "      <td>0.015396</td>\n",
       "      <td>-0.036335</td>\n",
       "      <td>-0.021154</td>\n",
       "      <td>0.337608</td>\n",
       "      <td>0.171015</td>\n",
       "      <td>0.006241</td>\n",
       "      <td>0.008592</td>\n",
       "    </tr>\n",
       "    <tr>\n",
       "      <th>height</th>\n",
       "      <td>-0.003735</td>\n",
       "      <td>-0.081304</td>\n",
       "      <td>0.499373</td>\n",
       "      <td>1.000000</td>\n",
       "      <td>0.290333</td>\n",
       "      <td>0.005492</td>\n",
       "      <td>0.006215</td>\n",
       "      <td>-0.050632</td>\n",
       "      <td>-0.018929</td>\n",
       "      <td>0.187899</td>\n",
       "      <td>0.094164</td>\n",
       "      <td>-0.005974</td>\n",
       "      <td>-0.011015</td>\n",
       "    </tr>\n",
       "    <tr>\n",
       "      <th>weight</th>\n",
       "      <td>-0.001549</td>\n",
       "      <td>0.054409</td>\n",
       "      <td>0.155649</td>\n",
       "      <td>0.290333</td>\n",
       "      <td>1.000000</td>\n",
       "      <td>0.030665</td>\n",
       "      <td>0.043652</td>\n",
       "      <td>0.141901</td>\n",
       "      <td>0.107255</td>\n",
       "      <td>0.068304</td>\n",
       "      <td>0.067259</td>\n",
       "      <td>-0.016514</td>\n",
       "      <td>0.182094</td>\n",
       "    </tr>\n",
       "    <tr>\n",
       "      <th>ap_hi</th>\n",
       "      <td>0.003268</td>\n",
       "      <td>0.020663</td>\n",
       "      <td>0.005980</td>\n",
       "      <td>0.005492</td>\n",
       "      <td>0.030665</td>\n",
       "      <td>1.000000</td>\n",
       "      <td>0.015919</td>\n",
       "      <td>0.023573</td>\n",
       "      <td>0.011821</td>\n",
       "      <td>-0.000933</td>\n",
       "      <td>0.001385</td>\n",
       "      <td>0.000032</td>\n",
       "      <td>0.054211</td>\n",
       "    </tr>\n",
       "    <tr>\n",
       "      <th>ap_lo</th>\n",
       "      <td>-0.002757</td>\n",
       "      <td>0.017717</td>\n",
       "      <td>0.015396</td>\n",
       "      <td>0.006215</td>\n",
       "      <td>0.043652</td>\n",
       "      <td>0.015919</td>\n",
       "      <td>1.000000</td>\n",
       "      <td>0.024023</td>\n",
       "      <td>0.010895</td>\n",
       "      <td>0.004948</td>\n",
       "      <td>0.010764</td>\n",
       "      <td>0.004962</td>\n",
       "      <td>0.065290</td>\n",
       "    </tr>\n",
       "    <tr>\n",
       "      <th>cholesterol</th>\n",
       "      <td>0.006400</td>\n",
       "      <td>0.154343</td>\n",
       "      <td>-0.036335</td>\n",
       "      <td>-0.050632</td>\n",
       "      <td>0.141901</td>\n",
       "      <td>0.023573</td>\n",
       "      <td>0.024023</td>\n",
       "      <td>1.000000</td>\n",
       "      <td>0.451741</td>\n",
       "      <td>0.010237</td>\n",
       "      <td>0.036015</td>\n",
       "      <td>0.009708</td>\n",
       "      <td>0.220752</td>\n",
       "    </tr>\n",
       "    <tr>\n",
       "      <th>gluc</th>\n",
       "      <td>0.002543</td>\n",
       "      <td>0.099095</td>\n",
       "      <td>-0.021154</td>\n",
       "      <td>-0.018929</td>\n",
       "      <td>0.107255</td>\n",
       "      <td>0.011821</td>\n",
       "      <td>0.010895</td>\n",
       "      <td>0.451741</td>\n",
       "      <td>1.000000</td>\n",
       "      <td>-0.004608</td>\n",
       "      <td>0.011442</td>\n",
       "      <td>-0.007301</td>\n",
       "      <td>0.089062</td>\n",
       "    </tr>\n",
       "    <tr>\n",
       "      <th>smoke</th>\n",
       "      <td>-0.003294</td>\n",
       "      <td>-0.047680</td>\n",
       "      <td>0.337608</td>\n",
       "      <td>0.187899</td>\n",
       "      <td>0.068304</td>\n",
       "      <td>-0.000933</td>\n",
       "      <td>0.004948</td>\n",
       "      <td>0.010237</td>\n",
       "      <td>-0.004608</td>\n",
       "      <td>1.000000</td>\n",
       "      <td>0.339709</td>\n",
       "      <td>0.025794</td>\n",
       "      <td>-0.015225</td>\n",
       "    </tr>\n",
       "    <tr>\n",
       "      <th>alco</th>\n",
       "      <td>0.000384</td>\n",
       "      <td>-0.029435</td>\n",
       "      <td>0.171015</td>\n",
       "      <td>0.094164</td>\n",
       "      <td>0.067259</td>\n",
       "      <td>0.001385</td>\n",
       "      <td>0.010764</td>\n",
       "      <td>0.036015</td>\n",
       "      <td>0.011442</td>\n",
       "      <td>0.339709</td>\n",
       "      <td>1.000000</td>\n",
       "      <td>0.025745</td>\n",
       "      <td>-0.007217</td>\n",
       "    </tr>\n",
       "    <tr>\n",
       "      <th>active</th>\n",
       "      <td>0.002700</td>\n",
       "      <td>-0.009926</td>\n",
       "      <td>0.006241</td>\n",
       "      <td>-0.005974</td>\n",
       "      <td>-0.016514</td>\n",
       "      <td>0.000032</td>\n",
       "      <td>0.004962</td>\n",
       "      <td>0.009708</td>\n",
       "      <td>-0.007301</td>\n",
       "      <td>0.025794</td>\n",
       "      <td>0.025745</td>\n",
       "      <td>1.000000</td>\n",
       "      <td>-0.035592</td>\n",
       "    </tr>\n",
       "    <tr>\n",
       "      <th>cardio</th>\n",
       "      <td>0.004269</td>\n",
       "      <td>0.238095</td>\n",
       "      <td>0.008592</td>\n",
       "      <td>-0.011015</td>\n",
       "      <td>0.182094</td>\n",
       "      <td>0.054211</td>\n",
       "      <td>0.065290</td>\n",
       "      <td>0.220752</td>\n",
       "      <td>0.089062</td>\n",
       "      <td>-0.015225</td>\n",
       "      <td>-0.007217</td>\n",
       "      <td>-0.035592</td>\n",
       "      <td>1.000000</td>\n",
       "    </tr>\n",
       "  </tbody>\n",
       "</table>\n",
       "</div>"
      ],
      "text/plain": [
       "                   id       age    gender    height    weight     ap_hi  \\\n",
       "id           1.000000  0.003587  0.003773 -0.003735 -0.001549  0.003268   \n",
       "age          0.003587  1.000000 -0.023150 -0.081304  0.054409  0.020663   \n",
       "gender       0.003773 -0.023150  1.000000  0.499373  0.155649  0.005980   \n",
       "height      -0.003735 -0.081304  0.499373  1.000000  0.290333  0.005492   \n",
       "weight      -0.001549  0.054409  0.155649  0.290333  1.000000  0.030665   \n",
       "ap_hi        0.003268  0.020663  0.005980  0.005492  0.030665  1.000000   \n",
       "ap_lo       -0.002757  0.017717  0.015396  0.006215  0.043652  0.015919   \n",
       "cholesterol  0.006400  0.154343 -0.036335 -0.050632  0.141901  0.023573   \n",
       "gluc         0.002543  0.099095 -0.021154 -0.018929  0.107255  0.011821   \n",
       "smoke       -0.003294 -0.047680  0.337608  0.187899  0.068304 -0.000933   \n",
       "alco         0.000384 -0.029435  0.171015  0.094164  0.067259  0.001385   \n",
       "active       0.002700 -0.009926  0.006241 -0.005974 -0.016514  0.000032   \n",
       "cardio       0.004269  0.238095  0.008592 -0.011015  0.182094  0.054211   \n",
       "\n",
       "                ap_lo  cholesterol      gluc     smoke      alco    active  \\\n",
       "id          -0.002757     0.006400  0.002543 -0.003294  0.000384  0.002700   \n",
       "age          0.017717     0.154343  0.099095 -0.047680 -0.029435 -0.009926   \n",
       "gender       0.015396    -0.036335 -0.021154  0.337608  0.171015  0.006241   \n",
       "height       0.006215    -0.050632 -0.018929  0.187899  0.094164 -0.005974   \n",
       "weight       0.043652     0.141901  0.107255  0.068304  0.067259 -0.016514   \n",
       "ap_hi        0.015919     0.023573  0.011821 -0.000933  0.001385  0.000032   \n",
       "ap_lo        1.000000     0.024023  0.010895  0.004948  0.010764  0.004962   \n",
       "cholesterol  0.024023     1.000000  0.451741  0.010237  0.036015  0.009708   \n",
       "gluc         0.010895     0.451741  1.000000 -0.004608  0.011442 -0.007301   \n",
       "smoke        0.004948     0.010237 -0.004608  1.000000  0.339709  0.025794   \n",
       "alco         0.010764     0.036015  0.011442  0.339709  1.000000  0.025745   \n",
       "active       0.004962     0.009708 -0.007301  0.025794  0.025745  1.000000   \n",
       "cardio       0.065290     0.220752  0.089062 -0.015225 -0.007217 -0.035592   \n",
       "\n",
       "               cardio  \n",
       "id           0.004269  \n",
       "age          0.238095  \n",
       "gender       0.008592  \n",
       "height      -0.011015  \n",
       "weight       0.182094  \n",
       "ap_hi        0.054211  \n",
       "ap_lo        0.065290  \n",
       "cholesterol  0.220752  \n",
       "gluc         0.089062  \n",
       "smoke       -0.015225  \n",
       "alco        -0.007217  \n",
       "active      -0.035592  \n",
       "cardio       1.000000  "
      ]
     },
     "execution_count": 12,
     "metadata": {},
     "output_type": "execute_result"
    }
   ],
   "source": [
    "df.corr()"
   ]
  },
  {
   "cell_type": "code",
   "execution_count": 18,
   "metadata": {},
   "outputs": [
    {
     "name": "stdout",
     "output_type": "stream",
     "text": [
      "0    34679\n",
      "1    34622\n",
      "Name: cardio, dtype: int64\n"
     ]
    },
    {
     "data": {
      "image/png": "[encoded data removed]",
      "text/plain": [
       "<Figure size 576x396 with 1 Axes>"
      ]
     },
     "metadata": {},
     "output_type": "display_data"
    }
   ],
   "source": [
    "y = df['cardio']\n",
    "sns.countplot(y)\n",
    "print(df.cardio.value_counts())"
   ]
  },
  {
   "cell_type": "code",
   "execution_count": 20,
   "metadata": {},
   "outputs": [
    {
     "data": {
      "text/plain": [
       "array([1, 2], dtype=int64)"
      ]
     },
     "execution_count": 20,
     "metadata": {},
     "output_type": "execute_result"
    }
   ],
   "source": [
    "df['gender'].unique()"
   ]
  },
  {
   "cell_type": "code",
   "execution_count": 23,
   "metadata": {},
   "outputs": [
    {
     "name": "stdout",
     "output_type": "stream",
     "text": [
      "1    45079\n",
      "2    24222\n",
      "Name: gender, dtype: int64\n"
     ]
    },
    {
     "data": {
      "image/png": "[encoded data removed]",
      "text/plain": [
       "<Figure size 576x396 with 1 Axes>"
      ]
     },
     "metadata": {},
     "output_type": "display_data"
    }
   ],
   "source": [
    "y = df['gender']\n",
    "sns.countplot(y)\n",
    "print(df.gender.value_counts())"
   ]
  },
  {
   "cell_type": "code",
   "execution_count": 27,
   "metadata": {},
   "outputs": [
    {
     "data": {
      "text/plain": [
       "array([2, 1, 3], dtype=int64)"
      ]
     },
     "execution_count": 27,
     "metadata": {},
     "output_type": "execute_result"
    }
   ],
   "source": [
    "df['cholesterol'].unique()"
   ]
  },
  {
   "cell_type": "code",
   "execution_count": 30,
   "metadata": {},
   "outputs": [
    {
     "name": "stdout",
     "output_type": "stream",
     "text": [
      "1    51868\n",
      "2     9446\n",
      "3     7987\n",
      "Name: cholesterol, dtype: int64\n"
     ]
    },
    {
     "data": {
      "image/png": "[encoded data removed]",
      "text/plain": [
       "<Figure size 576x396 with 1 Axes>"
      ]
     },
     "metadata": {},
     "output_type": "display_data"
    }
   ],
   "source": [
    "y = df['cholesterol']\n",
    "sns.countplot(y)\n",
    "print(df.cholesterol.value_counts())"
   ]
  },
  {
   "cell_type": "code",
   "execution_count": 31,
   "metadata": {},
   "outputs": [
    {
     "data": {
      "text/plain": [
       "array([2, 1, 3], dtype=int64)"
      ]
     },
     "execution_count": 31,
     "metadata": {},
     "output_type": "execute_result"
    }
   ],
   "source": [
    "df['gluc'].unique()"
   ]
  },
  {
   "cell_type": "code",
   "execution_count": 32,
   "metadata": {},
   "outputs": [
    {
     "data": {
      "text/plain": [
       "1    58885\n",
       "3     5277\n",
       "2     5139\n",
       "Name: gluc, dtype: int64"
      ]
     },
     "execution_count": 32,
     "metadata": {},
     "output_type": "execute_result"
    },
    {
     "data": {
      "image/png": "[encoded data removed]",
      "text/plain": [
       "<Figure size 576x396 with 1 Axes>"
      ]
     },
     "metadata": {},
     "output_type": "display_data"
    }
   ],
   "source": [
    "y = df['gluc']\n",
    "sns.countplot(y)\n",
    "df.gluc.value_counts()"
   ]
  },
  {
   "cell_type": "code",
   "execution_count": 33,
   "metadata": {},
   "outputs": [
    {
     "data": {
      "text/plain": [
       "array([0, 1], dtype=int64)"
      ]
     },
     "execution_count": 33,
     "metadata": {},
     "output_type": "execute_result"
    }
   ],
   "source": [
    "df['smoke'].unique()"
   ]
  },
  {
   "cell_type": "code",
   "execution_count": 34,
   "metadata": {},
   "outputs": [
    {
     "data": {
      "text/plain": [
       "0    63199\n",
       "1     6102\n",
       "Name: smoke, dtype: int64"
      ]
     },
     "execution_count": 34,
     "metadata": {},
     "output_type": "execute_result"
    },
    {
     "data": {
      "image/png": "[encoded data removed]",
      "text/plain": [
       "<Figure size 576x396 with 1 Axes>"
      ]
     },
     "metadata": {},
     "output_type": "display_data"
    }
   ],
   "source": [
    "y = df['smoke']\n",
    "sns.countplot(y)\n",
    "df.smoke.value_counts()"
   ]
  },
  {
   "cell_type": "code",
   "execution_count": 35,
   "metadata": {},
   "outputs": [
    {
     "data": {
      "text/plain": [
       "array([0, 1], dtype=int64)"
      ]
     },
     "execution_count": 35,
     "metadata": {},
     "output_type": "execute_result"
    }
   ],
   "source": [
    "df['alco'].unique()"
   ]
  },
  {
   "cell_type": "code",
   "execution_count": 36,
   "metadata": {},
   "outputs": [
    {
     "data": {
      "text/plain": [
       "0    65567\n",
       "1     3734\n",
       "Name: alco, dtype: int64"
      ]
     },
     "execution_count": 36,
     "metadata": {},
     "output_type": "execute_result"
    },
    {
     "data": {
      "image/png": "[encoded data removed]",
      "text/plain": [
       "<Figure size 576x396 with 1 Axes>"
      ]
     },
     "metadata": {},
     "output_type": "display_data"
    }
   ],
   "source": [
    "y = df['alco']\n",
    "sns.countplot(y)\n",
    "df.alco.value_counts()"
   ]
  },
  {
   "cell_type": "code",
   "execution_count": 37,
   "metadata": {},
   "outputs": [
    {
     "data": {
      "text/plain": [
       "array([1, 0], dtype=int64)"
      ]
     },
     "execution_count": 37,
     "metadata": {},
     "output_type": "execute_result"
    }
   ],
   "source": [
    "df['active'].unique()"
   ]
  },
  {
   "cell_type": "code",
   "execution_count": 38,
   "metadata": {},
   "outputs": [
    {
     "data": {
      "text/plain": [
       "1    55717\n",
       "0    13584\n",
       "Name: active, dtype: int64"
      ]
     },
     "execution_count": 38,
     "metadata": {},
     "output_type": "execute_result"
    },
    {
     "data": {
      "image/png": "[encoded data removed]",
      "text/plain": [
       "<Figure size 576x396 with 1 Axes>"
      ]
     },
     "metadata": {},
     "output_type": "display_data"
    }
   ],
   "source": [
    "y = df['active']\n",
    "sns.countplot(y)\n",
    "df.active.value_counts()"
   ]
  },
  {
   "cell_type": "code",
   "execution_count": 5,
   "metadata": {
    "collapsed": true
   },
   "outputs": [],
   "source": [
    "from sklearn.model_selection import train_test_split"
   ]
  },
  {
   "cell_type": "code",
   "execution_count": 6,
   "metadata": {
    "collapsed": true
   },
   "outputs": [],
   "source": [
    "predictors = df.drop('cardio', axis = 1)\n",
    "target = df['cardio']"
   ]
  },
  {
   "cell_type": "code",
   "execution_count": 7,
   "metadata": {
    "collapsed": true
   },
   "outputs": [],
   "source": [
    "x_train,x_test,y_train,y_test = train_test_split(predictors,target,test_size = 0.20,random_state = 0)"
   ]
  },
  {
   "cell_type": "code",
   "execution_count": 42,
   "metadata": {},
   "outputs": [
    {
     "data": {
      "text/plain": [
       "(55440, 12)"
      ]
     },
     "execution_count": 42,
     "metadata": {},
     "output_type": "execute_result"
    }
   ],
   "source": [
    "x_train.shape"
   ]
  },
  {
   "cell_type": "code",
   "execution_count": 43,
   "metadata": {},
   "outputs": [
    {
     "data": {
      "text/plain": [
       "(13861, 12)"
      ]
     },
     "execution_count": 43,
     "metadata": {},
     "output_type": "execute_result"
    }
   ],
   "source": [
    "x_test.shape"
   ]
  },
  {
   "cell_type": "code",
   "execution_count": 44,
   "metadata": {},
   "outputs": [
    {
     "data": {
      "text/plain": [
       "(55440,)"
      ]
     },
     "execution_count": 44,
     "metadata": {},
     "output_type": "execute_result"
    }
   ],
   "source": [
    "y_train.shape"
   ]
  },
  {
   "cell_type": "code",
   "execution_count": 45,
   "metadata": {},
   "outputs": [
    {
     "data": {
      "text/plain": [
       "(13861,)"
      ]
     },
     "execution_count": 45,
     "metadata": {},
     "output_type": "execute_result"
    }
   ],
   "source": [
    "y_test.shape"
   ]
  },
  {
   "cell_type": "code",
   "execution_count": 52,
   "metadata": {},
   "outputs": [
    {
     "data": {
      "text/plain": [
       "(13861,)"
      ]
     },
     "execution_count": 52,
     "metadata": {},
     "output_type": "execute_result"
    }
   ],
   "source": [
    "from sklearn.linear_model import LogisticRegression\n",
    "lr = LogisticRegression()\n",
    "lr.fit(x_train,y_train)\n",
    "y_pred = lr.predict(x_test)\n",
    "y_pred.shape"
   ]
  },
  {
   "cell_type": "code",
   "execution_count": 56,
   "metadata": {},
   "outputs": [
    {
     "data": {
      "text/plain": [
       "70.180000000000007"
      ]
     },
     "execution_count": 56,
     "metadata": {},
     "output_type": "execute_result"
    }
   ],
   "source": [
    "from sklearn.metrics import accuracy_score\n",
    "round(accuracy_score(y_test,y_pred)*100 ,2)"
   ]
  },
  {
   "cell_type": "code",
   "execution_count": 66,
   "metadata": {},
   "outputs": [
    {
     "data": {
      "text/plain": [
       "(13861,)"
      ]
     },
     "execution_count": 66,
     "metadata": {},
     "output_type": "execute_result"
    }
   ],
   "source": [
    "from sklearn.naive_bayes import GaussianNB\n",
    "g = GaussianNB()\n",
    "g.fit(x_train, y_train)\n",
    "y_pred = g.predict(x_test)\n",
    "y_pred.shape"
   ]
  },
  {
   "cell_type": "code",
   "execution_count": 1,
   "metadata": {},
   "outputs": [
    {
     "ename": "NameError",
     "evalue": "name 'accuracy_score' is not defined",
     "output_type": "error",
     "traceback": [
      "\u001b[1;31m---------------------------------------------------------------------------\u001b[0m",
      "\u001b[1;31mNameError\u001b[0m                                 Traceback (most recent call last)",
      "\u001b[1;32m<ipython-input-1-d2321fca0593>\u001b[0m in \u001b[0;36m<module>\u001b[1;34m()\u001b[0m\n\u001b[1;32m----> 1\u001b[1;33m \u001b[0mround\u001b[0m\u001b[1;33m(\u001b[0m\u001b[0maccuracy_score\u001b[0m\u001b[1;33m(\u001b[0m\u001b[0my_test\u001b[0m\u001b[1;33m,\u001b[0m\u001b[0my_pred\u001b[0m\u001b[1;33m)\u001b[0m\u001b[1;33m*\u001b[0m\u001b[1;36m100\u001b[0m\u001b[1;33m,\u001b[0m\u001b[1;36m2\u001b[0m\u001b[1;33m)\u001b[0m\u001b[1;33m\u001b[0m\u001b[1;33m\u001b[0m\u001b[0m\n\u001b[0m",
      "\u001b[1;31mNameError\u001b[0m: name 'accuracy_score' is not defined"
     ]
    }
   ],
   "source": [
    "round(accuracy_score(y_test,y_pred)*100,2)"
   ]
  },
  {
   "cell_type": "code",
   "execution_count": null,
   "metadata": {
    "collapsed": true
   },
   "outputs": [],
   "source": [
    "from sklearn import svm\n",
    "s = svm.SVC(kernel = 'linear')\n",
    "s.fit(x_train, y_train)\n",
    "y_pred = s.predict(x_test)"
   ]
  },
  {
   "cell_type": "code",
   "execution_count": 10,
   "metadata": {},
   "outputs": [
    {
     "data": {
      "text/plain": [
       "(13861,)"
      ]
     },
     "execution_count": 10,
     "metadata": {},
     "output_type": "execute_result"
    }
   ],
   "source": [
    "from sklearn.neighbors import KNeighborsClassifier\n",
    "knn = KNeighborsClassifier(n_neighbors=12)\n",
    "knn.fit(x_train,y_train)\n",
    "y_pred = knn.predict(x_test)\n",
    "y_pred.shape"
   ]
  },
  {
   "cell_type": "code",
   "execution_count": 11,
   "metadata": {},
   "outputs": [
    {
     "data": {
      "text/plain": [
       "57.07"
      ]
     },
     "execution_count": 11,
     "metadata": {},
     "output_type": "execute_result"
    }
   ],
   "source": [
    "from sklearn.metrics import accuracy_score\n",
    "round(accuracy_score(y_test,y_pred)*100 ,2)"
   ]
  },
  {
   "cell_type": "code",
   "execution_count": 14,
   "metadata": {},
   "outputs": [
    {
     "ename": "ModuleNotFoundError",
     "evalue": "No module named 'xgboost'",
     "output_type": "error",
     "traceback": [
      "\u001b[1;31m---------------------------------------------------------------------------\u001b[0m",
      "\u001b[1;31mModuleNotFoundError\u001b[0m                       Traceback (most recent call last)",
      "\u001b[1;32m<ipython-input-14-fb9b70c41983>\u001b[0m in \u001b[0;36m<module>\u001b[1;34m()\u001b[0m\n\u001b[1;32m----> 1\u001b[1;33m \u001b[1;32mimport\u001b[0m \u001b[0mxgboost\u001b[0m \u001b[1;32mas\u001b[0m \u001b[0mxgb\u001b[0m\u001b[1;33m\u001b[0m\u001b[1;33m\u001b[0m\u001b[0m\n\u001b[0m\u001b[0;32m      2\u001b[0m \u001b[1;33m\u001b[0m\u001b[0m\n\u001b[0;32m      3\u001b[0m \u001b[0mxgb_model\u001b[0m \u001b[1;33m=\u001b[0m \u001b[0mxgb\u001b[0m\u001b[1;33m.\u001b[0m\u001b[0mXGBClassifier\u001b[0m\u001b[1;33m(\u001b[0m\u001b[0mobjective\u001b[0m\u001b[1;33m=\u001b[0m\u001b[1;34m\"binary:logistic\"\u001b[0m\u001b[1;33m,\u001b[0m \u001b[0mrandom_state\u001b[0m\u001b[1;33m=\u001b[0m\u001b[1;36m42\u001b[0m\u001b[1;33m)\u001b[0m\u001b[1;33m\u001b[0m\u001b[1;33m\u001b[0m\u001b[0m\n\u001b[0;32m      4\u001b[0m \u001b[0mxgb_model\u001b[0m\u001b[1;33m.\u001b[0m\u001b[0mfit\u001b[0m\u001b[1;33m(\u001b[0m\u001b[0mx_train\u001b[0m\u001b[1;33m,\u001b[0m \u001b[0my_train\u001b[0m\u001b[1;33m)\u001b[0m\u001b[1;33m\u001b[0m\u001b[1;33m\u001b[0m\u001b[0m\n\u001b[0;32m      5\u001b[0m \u001b[1;33m\u001b[0m\u001b[0m\n",
      "\u001b[1;31mModuleNotFoundError\u001b[0m: No module named 'xgboost'"
     ]
    }
   ],
   "source": [
    "import xgboost as xgb\n",
    "\n",
    "xgb_model = xgb.XGBClassifier(objective=\"binary:logistic\", random_state=42)\n",
    "xgb_model.fit(x_train, y_train)\n",
    "\n",
    "Y_pred_xgb = xgb_model.predict(x_test)"
   ]
  },
  {
   "cell_type": "code",
   "execution_count": 15,
   "metadata": {},
   "outputs": [
    {
     "name": "stderr",
     "output_type": "stream",
     "text": [
      "Using TensorFlow backend.\n"
     ]
    }
   ],
   "source": [
    "\n",
    "from keras.models import Sequential\n",
    "from keras.layers import Dense"
   ]
  },
  {
   "cell_type": "code",
   "execution_count": 17,
   "metadata": {
    "collapsed": true
   },
   "outputs": [],
   "source": [
    "model = Sequential()\n",
    "model.add(Dense(11,activation='relu',input_dim=12))\n",
    "model.add(Dense(1,activation='sigmoid'))\n",
    "\n",
    "model.compile(loss='binary_crossentropy',optimizer='adam',metrics=['accuracy'])"
   ]
  },
  {
   "cell_type": "code",
   "execution_count": 19,
   "metadata": {},
   "outputs": [
    {
     "name": "stdout",
     "output_type": "stream",
     "text": [
      "Epoch 1/300\n",
      "55440/55440 [==============================] - 13s 236us/step - loss: 8.0454 - acc: 0.5008\n",
      "Epoch 2/300\n",
      "55440/55440 [==============================] - 6s 101us/step - loss: 8.0454 - acc: 0.5008\n",
      "Epoch 3/300\n",
      "55440/55440 [==============================] - 4s 78us/step - loss: 8.0454 - acc: 0.5008\n",
      "Epoch 4/300\n",
      "55440/55440 [==============================] - 8s 136us/step - loss: 8.0454 - acc: 0.5008\n",
      "Epoch 5/300\n",
      "55440/55440 [==============================] - 5s 90us/step - loss: 8.0454 - acc: 0.5008\n",
      "Epoch 6/300\n",
      "55440/55440 [==============================] - 4s 71us/step - loss: 8.0454 - acc: 0.5008\n",
      "Epoch 7/300\n",
      "55440/55440 [==============================] - 4s 65us/step - loss: 8.0454 - acc: 0.5008\n",
      "Epoch 8/300\n",
      "55440/55440 [==============================] - 4s 65us/step - loss: 8.0454 - acc: 0.5008\n",
      "Epoch 9/300\n",
      "55440/55440 [==============================] - 4s 73us/step - loss: 8.0454 - acc: 0.5008\n",
      "Epoch 10/300\n",
      "55440/55440 [==============================] - 7s 125us/step - loss: 8.0454 - acc: 0.5008\n",
      "Epoch 11/300\n",
      "55440/55440 [==============================] - 5s 92us/step - loss: 8.0454 - acc: 0.5008\n",
      "Epoch 12/300\n",
      "55440/55440 [==============================] - 5s 88us/step - loss: 8.0454 - acc: 0.5008\n",
      "Epoch 13/300\n",
      "55440/55440 [==============================] - 4s 77us/step - loss: 8.0454 - acc: 0.5008\n",
      "Epoch 14/300\n",
      "55440/55440 [==============================] - 3s 62us/step - loss: 8.0454 - acc: 0.5008: \n",
      "Epoch 15/300\n",
      "55440/55440 [==============================] - 4s 81us/step - loss: 8.0454 - acc: 0.5008\n",
      "Epoch 16/300\n",
      "55440/55440 [==============================] - 8s 136us/step - loss: 8.0454 - acc: 0.5008 \n",
      "Epoch 17/300\n",
      "55440/55440 [==============================] - 6s 107us/step - loss: 8.0454 - acc: 0.5008\n",
      "Epoch 18/300\n",
      "55440/55440 [==============================] - 4s 75us/step - loss: 8.0454 - acc: 0.5008\n",
      "Epoch 19/300\n",
      "55440/55440 [==============================] - 4s 66us/step - loss: 8.0454 - acc: 0.5008\n",
      "Epoch 20/300\n",
      "55440/55440 [==============================] - 3s 57us/step - loss: 8.0454 - acc: 0.5008\n",
      "Epoch 21/300\n",
      "55440/55440 [==============================] - 3s 62us/step - loss: 8.0454 - acc: 0.5008\n",
      "Epoch 22/300\n",
      "55440/55440 [==============================] - 3s 57us/step - loss: 8.0454 - acc: 0.5008\n",
      "Epoch 23/300\n",
      "55440/55440 [==============================] - 3s 58us/step - loss: 8.0454 - acc: 0.5008\n",
      "Epoch 24/300\n",
      "55440/55440 [==============================] - 3s 55us/step - loss: 8.0454 - acc: 0.5008\n",
      "Epoch 25/300\n",
      "55440/55440 [==============================] - 3s 58us/step - loss: 8.0454 - acc: 0.5008\n",
      "Epoch 26/300\n",
      "55440/55440 [==============================] - 3s 61us/step - loss: 8.0454 - acc: 0.5008\n",
      "Epoch 27/300\n",
      "55440/55440 [==============================] - 3s 54us/step - loss: 8.0454 - acc: 0.5008\n",
      "Epoch 28/300\n",
      "55440/55440 [==============================] - 4s 70us/step - loss: 8.0454 - acc: 0.5008\n",
      "Epoch 29/300\n",
      "55440/55440 [==============================] - 6s 110us/step - loss: 8.0454 - acc: 0.5008\n",
      "Epoch 30/300\n",
      "55440/55440 [==============================] - 4s 75us/step - loss: 8.0454 - acc: 0.5008\n",
      "Epoch 31/300\n",
      "55440/55440 [==============================] - 4s 65us/step - loss: 8.0454 - acc: 0.5008\n",
      "Epoch 32/300\n",
      "55440/55440 [==============================] - 3s 63us/step - loss: 8.0454 - acc: 0.5008\n",
      "Epoch 33/300\n",
      "55440/55440 [==============================] - 3s 61us/step - loss: 8.0454 - acc: 0.5008\n",
      "Epoch 34/300\n",
      "55440/55440 [==============================] - 3s 63us/step - loss: 8.0454 - acc: 0.5008\n",
      "Epoch 35/300\n",
      "55440/55440 [==============================] - 3s 57us/step - loss: 8.0454 - acc: 0.5008\n",
      "Epoch 36/300\n",
      "55440/55440 [==============================] - 4s 65us/step - loss: 8.0454 - acc: 0.5008\n",
      "Epoch 37/300\n",
      "55440/55440 [==============================] - 3s 63us/step - loss: 8.0454 - acc: 0.5008: 3s - l\n",
      "Epoch 38/300\n",
      "55440/55440 [==============================] - 3s 63us/step - loss: 8.0454 - acc: 0.5008: 0s - loss: 8\n",
      "Epoch 39/300\n",
      "55440/55440 [==============================] - 4s 63us/step - loss: 8.0454 - acc: 0.5008\n",
      "Epoch 40/300\n",
      "55440/55440 [==============================] - 3s 55us/step - loss: 8.0454 - acc: 0.5008\n",
      "Epoch 41/300\n",
      "55440/55440 [==============================] - 3s 62us/step - loss: 8.0454 - acc: 0.5008\n",
      "Epoch 42/300\n",
      "55440/55440 [==============================] - 3s 61us/step - loss: 8.0454 - acc: 0.5008\n",
      "Epoch 43/300\n",
      "55440/55440 [==============================] - 3s 60us/step - loss: 8.0454 - acc: 0.5008\n",
      "Epoch 44/300\n",
      "55440/55440 [==============================] - 4s 64us/step - loss: 8.0454 - acc: 0.5008: 0s - loss: 8.0616 - acc: 0.499 - ETA: 0s - loss: 8.0636 -\n",
      "Epoch 45/300\n",
      "55440/55440 [==============================] - 3s 59us/step - loss: 8.0454 - acc: 0.5008\n",
      "Epoch 46/300\n",
      "55440/55440 [==============================] - 4s 66us/step - loss: 8.0454 - acc: 0.5008\n",
      "Epoch 47/300\n",
      "55440/55440 [==============================] - 3s 61us/step - loss: 8.0454 - acc: 0.5008\n",
      "Epoch 48/300\n",
      "55440/55440 [==============================] - 3s 60us/step - loss: 8.0454 - acc: 0.5008\n",
      "Epoch 49/300\n",
      "55440/55440 [==============================] - 3s 62us/step - loss: 8.0454 - acc: 0.5008\n",
      "Epoch 50/300\n",
      "55440/55440 [==============================] - 3s 56us/step - loss: 8.0454 - acc: 0.5008: 0s - loss: 8.0426 - acc: 0.501\n",
      "Epoch 51/300\n",
      "55440/55440 [==============================] - 4s 64us/step - loss: 8.0454 - acc: 0.5008\n",
      "Epoch 52/300\n",
      "55440/55440 [==============================] - 3s 61us/step - loss: 8.0454 - acc: 0.5008\n",
      "Epoch 53/300\n",
      "55440/55440 [==============================] - 3s 58us/step - loss: 8.0454 - acc: 0.5008: 0s - loss: 8.0457 - acc: 0.500\n",
      "Epoch 54/300\n",
      "55440/55440 [==============================] - 3s 58us/step - loss: 8.0454 - acc: 0.5008\n",
      "Epoch 55/300\n",
      "55440/55440 [==============================] - 3s 59us/step - loss: 8.0454 - acc: 0.5008\n",
      "Epoch 56/300\n",
      "55440/55440 [==============================] - 4s 67us/step - loss: 8.0454 - acc: 0.5008\n",
      "Epoch 57/300\n",
      "55440/55440 [==============================] - 3s 59us/step - loss: 8.0454 - acc: 0.5008\n",
      "Epoch 58/300\n",
      "55440/55440 [==============================] - 4s 66us/step - loss: 8.0454 - acc: 0.5008\n",
      "Epoch 59/300\n",
      "55440/55440 [==============================] - 3s 61us/step - loss: 8.0454 - acc: 0.5008\n",
      "Epoch 60/300\n",
      "55440/55440 [==============================] - 3s 61us/step - loss: 8.0454 - acc: 0.5008: 1s - loss\n",
      "Epoch 61/300\n",
      "55440/55440 [==============================] - 4s 63us/step - loss: 8.0454 - acc: 0.5008\n",
      "Epoch 62/300\n",
      "55440/55440 [==============================] - 3s 58us/step - loss: 8.0454 - acc: 0.5008\n",
      "Epoch 63/300\n",
      "55440/55440 [==============================] - 4s 65us/step - loss: 8.0454 - acc: 0.5008\n",
      "Epoch 64/300\n",
      "55440/55440 [==============================] - 3s 59us/step - loss: 8.0454 - acc: 0.5008: 0s - loss: 8.0508 - acc:\n",
      "Epoch 65/300\n",
      "55440/55440 [==============================] - 3s 63us/step - loss: 8.0454 - acc: 0.5008\n",
      "Epoch 66/300\n",
      "55440/55440 [==============================] - 4s 65us/step - loss: 8.0454 - acc: 0.5008\n",
      "Epoch 67/300\n",
      "55440/55440 [==============================] - 3s 61us/step - loss: 8.0454 - acc: 0.5008\n",
      "Epoch 68/300\n",
      "55440/55440 [==============================] - 4s 67us/step - loss: 8.0454 - acc: 0.5008\n",
      "Epoch 69/300\n",
      "55440/55440 [==============================] - 3s 62us/step - loss: 8.0454 - acc: 0.5008\n",
      "Epoch 70/300\n",
      "55440/55440 [==============================] - 3s 62us/step - loss: 8.0454 - acc: 0.5008\n",
      "Epoch 71/300\n",
      "55440/55440 [==============================] - 4s 64us/step - loss: 8.0454 - acc: 0.5008: 0s - loss: 8.0462 - ac\n",
      "Epoch 72/300\n",
      "55440/55440 [==============================] - 3s 62us/step - loss: 8.0454 - acc: 0.5008\n",
      "Epoch 73/300\n",
      "55440/55440 [==============================] - 4s 63us/step - loss: 8.0454 - acc: 0.5008\n",
      "Epoch 74/300\n",
      "55440/55440 [==============================] - 3s 60us/step - loss: 8.0454 - acc: 0.5008: 0s - loss: 8.0500 - \n",
      "Epoch 75/300\n",
      "55440/55440 [==============================] - 4s 66us/step - loss: 8.0454 - acc: 0.5008\n",
      "Epoch 76/300\n",
      "55440/55440 [==============================] - 4s 63us/step - loss: 8.0454 - acc: 0.5008\n",
      "Epoch 77/300\n",
      "55440/55440 [==============================] - 3s 60us/step - loss: 8.0454 - acc: 0.5008: 0s - loss: 8.058\n",
      "Epoch 78/300\n"
     ]
    },
    {
     "name": "stdout",
     "output_type": "stream",
     "text": [
      "55440/55440 [==============================] - 3s 60us/step - loss: 8.0454 - acc: 0.5008\n",
      "Epoch 79/300\n",
      "55440/55440 [==============================] - 3s 59us/step - loss: 8.0454 - acc: 0.5008\n",
      "Epoch 80/300\n",
      "55440/55440 [==============================] - 3s 61us/step - loss: 8.0454 - acc: 0.5008\n",
      "Epoch 81/300\n",
      "55440/55440 [==============================] - 3s 56us/step - loss: 8.0454 - acc: 0.5008\n",
      "Epoch 82/300\n",
      "55440/55440 [==============================] - 3s 57us/step - loss: 8.0454 - acc: 0.5008: 0s - loss: 8.0305 - acc: 0.50\n",
      "Epoch 83/300\n",
      "55440/55440 [==============================] - 3s 62us/step - loss: 8.0454 - acc: 0.5008\n",
      "Epoch 84/300\n",
      "55440/55440 [==============================] - 3s 62us/step - loss: 8.0454 - acc: 0.5008: \n",
      "Epoch 85/300\n",
      "55440/55440 [==============================] - 4s 63us/step - loss: 8.0454 - acc: 0.5008\n",
      "Epoch 86/300\n",
      "55440/55440 [==============================] - 3s 62us/step - loss: 8.0454 - acc: 0.5008\n",
      "Epoch 87/300\n",
      "55440/55440 [==============================] - 3s 57us/step - loss: 8.0454 - acc: 0.5008\n",
      "Epoch 88/300\n",
      "55440/55440 [==============================] - 3s 60us/step - loss: 8.0454 - acc: 0.5008\n",
      "Epoch 89/300\n",
      "55440/55440 [==============================] - 3s 56us/step - loss: 8.0454 - acc: 0.5008\n",
      "Epoch 90/300\n",
      "55440/55440 [==============================] - 3s 61us/step - loss: 8.0454 - acc: 0.5008\n",
      "Epoch 91/300\n",
      "55440/55440 [==============================] - 3s 59us/step - loss: 8.0454 - acc: 0.5008\n",
      "Epoch 92/300\n",
      "55440/55440 [==============================] - 3s 55us/step - loss: 8.0454 - acc: 0.5008: 1s - lo\n",
      "Epoch 93/300\n",
      "55440/55440 [==============================] - 3s 61us/step - loss: 8.0454 - acc: 0.5008: 0s - loss: 8.084\n",
      "Epoch 94/300\n",
      "55440/55440 [==============================] - 3s 58us/step - loss: 8.0454 - acc: 0.5008\n",
      "Epoch 95/300\n",
      "55440/55440 [==============================] - 3s 61us/step - loss: 8.0454 - acc: 0.5008\n",
      "Epoch 96/300\n",
      "55440/55440 [==============================] - 3s 56us/step - loss: 8.0454 - acc: 0.5008\n",
      "Epoch 97/300\n",
      "55440/55440 [==============================] - 3s 58us/step - loss: 8.0454 - acc: 0.5008\n",
      "Epoch 98/300\n",
      "55440/55440 [==============================] - 3s 59us/step - loss: 8.0454 - acc: 0.5008\n",
      "Epoch 99/300\n",
      "55440/55440 [==============================] - 3s 56us/step - loss: 8.0454 - acc: 0.5008\n",
      "Epoch 100/300\n",
      "55440/55440 [==============================] - 3s 63us/step - loss: 8.0454 - acc: 0.5008\n",
      "Epoch 101/300\n",
      "55440/55440 [==============================] - 3s 57us/step - loss: 8.0454 - acc: 0.5008: 0s - loss: 8.\n",
      "Epoch 102/300\n",
      "55440/55440 [==============================] - 3s 58us/step - loss: 8.0454 - acc: 0.5008\n",
      "Epoch 103/300\n",
      "55440/55440 [==============================] - 3s 57us/step - loss: 8.0454 - acc: 0.5008\n",
      "Epoch 104/300\n",
      "55440/55440 [==============================] - 3s 58us/step - loss: 8.0454 - acc: 0.5008: 0s - loss: 8.0580 - a\n",
      "Epoch 105/300\n",
      "55440/55440 [==============================] - 4s 67us/step - loss: 8.0454 - acc: 0.5008\n",
      "Epoch 106/300\n",
      "55440/55440 [==============================] - 3s 55us/step - loss: 8.0454 - acc: 0.5008\n",
      "Epoch 107/300\n",
      "55440/55440 [==============================] - 3s 60us/step - loss: 8.0454 - acc: 0.5008\n",
      "Epoch 108/300\n",
      "55440/55440 [==============================] - 3s 60us/step - loss: 8.0454 - acc: 0.5008: 2s - loss: 8.1042 - acc: 0.49 - ETA: 2s - loss: 8.099 - ETA: \n",
      "Epoch 109/300\n",
      "55440/55440 [==============================] - 3s 56us/step - loss: 8.0454 - acc: 0.5008\n",
      "Epoch 110/300\n",
      "55440/55440 [==============================] - 3s 61us/step - loss: 8.0454 - acc: 0.5008\n",
      "Epoch 111/300\n",
      "55440/55440 [==============================] - 3s 56us/step - loss: 8.0454 - acc: 0.5008: 0s - loss: 8.0330\n",
      "Epoch 112/300\n",
      "55440/55440 [==============================] - 3s 62us/step - loss: 8.0454 - acc: 0.5008: 1s - \n",
      "Epoch 113/300\n",
      "55440/55440 [==============================] - 4s 64us/step - loss: 8.0454 - acc: 0.5008\n",
      "Epoch 114/300\n",
      "55440/55440 [==============================] - 3s 58us/step - loss: 8.0454 - acc: 0.5008\n",
      "Epoch 115/300\n",
      "55440/55440 [==============================] - 3s 60us/step - loss: 8.0454 - acc: 0.5008\n",
      "Epoch 116/300\n",
      "55440/55440 [==============================] - 3s 54us/step - loss: 8.0454 - acc: 0.5008\n",
      "Epoch 117/300\n",
      "55440/55440 [==============================] - 3s 60us/step - loss: 8.0454 - acc: 0.5008: 1s - loss: 8.0900 - ETA: 0s - loss: 8.04\n",
      "Epoch 118/300\n",
      "55440/55440 [==============================] - 4s 65us/step - loss: 8.0454 - acc: 0.5008\n",
      "Epoch 119/300\n",
      "55440/55440 [==============================] - 3s 60us/step - loss: 8.0454 - acc: 0.5008: 0s - loss: 8.0398 \n",
      "Epoch 120/300\n",
      "55440/55440 [==============================] - 4s 64us/step - loss: 8.0454 - acc: 0.5008\n",
      "Epoch 121/300\n",
      "55440/55440 [==============================] - 3s 57us/step - loss: 8.0454 - acc: 0.5008\n",
      "Epoch 122/300\n",
      "55440/55440 [==============================] - 3s 60us/step - loss: 8.0454 - acc: 0.5008\n",
      "Epoch 123/300\n",
      "55440/55440 [==============================] - 3s 62us/step - loss: 8.0454 - acc: 0.5008\n",
      "Epoch 124/300\n",
      "55440/55440 [==============================] - 3s 56us/step - loss: 8.0454 - acc: 0.5008\n",
      "Epoch 125/300\n",
      "55440/55440 [==============================] - 3s 61us/step - loss: 8.0454 - acc: 0.5008: 0s - loss: 8.0415 - acc: 0.5\n",
      "Epoch 126/300\n",
      "55440/55440 [==============================] - 3s 57us/step - loss: 8.0454 - acc: 0.5008\n",
      "Epoch 127/300\n",
      "55440/55440 [==============================] - 3s 62us/step - loss: 8.0454 - acc: 0.5008\n",
      "Epoch 128/300\n",
      "55440/55440 [==============================] - 4s 65us/step - loss: 8.0454 - acc: 0.5008: 0s - loss: 8.0487 - acc: \n",
      "Epoch 129/300\n",
      "55440/55440 [==============================] - 3s 58us/step - loss: 8.0454 - acc: 0.5008\n",
      "Epoch 130/300\n",
      "55440/55440 [==============================] - 3s 60us/step - loss: 8.0454 - acc: 0.5008\n",
      "Epoch 131/300\n",
      "55440/55440 [==============================] - 3s 56us/step - loss: 8.0454 - acc: 0.5008\n",
      "Epoch 132/300\n",
      "55440/55440 [==============================] - 4s 64us/step - loss: 8.0454 - acc: 0.5008\n",
      "Epoch 133/300\n",
      "55440/55440 [==============================] - 4s 65us/step - loss: 8.0454 - acc: 0.5008\n",
      "Epoch 134/300\n",
      "55440/55440 [==============================] - 3s 58us/step - loss: 8.0454 - acc: 0.5008\n",
      "Epoch 135/300\n",
      "55440/55440 [==============================] - 3s 61us/step - loss: 8.0454 - acc: 0.5008\n",
      "Epoch 136/300\n",
      "55440/55440 [==============================] - 3s 60us/step - loss: 8.0454 - acc: 0.5008\n",
      "Epoch 137/300\n",
      "55440/55440 [==============================] - 3s 58us/step - loss: 8.0454 - acc: 0.5008: 0s - loss: 8\n",
      "Epoch 138/300\n",
      "55440/55440 [==============================] - 3s 61us/step - loss: 8.0454 - acc: 0.5008\n",
      "Epoch 139/300\n",
      "55440/55440 [==============================] - 3s 56us/step - loss: 8.0454 - acc: 0.5008\n",
      "Epoch 140/300\n",
      "55440/55440 [==============================] - 4s 63us/step - loss: 8.0454 - acc: 0.5008: 0s - loss: 8.0498 - acc: 0 - ETA: 0s - loss: 8.0517 -\n",
      "Epoch 141/300\n",
      "55440/55440 [==============================] - 4s 64us/step - loss: 8.0454 - acc: 0.5008\n",
      "Epoch 142/300\n",
      "55440/55440 [==============================] - 3s 57us/step - loss: 8.0454 - acc: 0.5008\n",
      "Epoch 143/300\n",
      "55440/55440 [==============================] - 3s 61us/step - loss: 8.0454 - acc: 0.5008\n",
      "Epoch 144/300\n",
      "55440/55440 [==============================] - 3s 55us/step - loss: 8.0454 - acc: 0.5008\n",
      "Epoch 145/300\n",
      "55440/55440 [==============================] - 3s 63us/step - loss: 8.0454 - acc: 0.5008: 1s - l\n",
      "Epoch 146/300\n",
      "55440/55440 [==============================] - 4s 66us/step - loss: 8.0454 - acc: 0.5008\n",
      "Epoch 147/300\n",
      "55440/55440 [==============================] - 3s 60us/step - loss: 8.0454 - acc: 0.5008: 1\n",
      "Epoch 148/300\n",
      "55440/55440 [==============================] - 3s 62us/step - loss: 8.0454 - acc: 0.5008\n",
      "Epoch 149/300\n",
      "55440/55440 [==============================] - 3s 58us/step - loss: 8.0454 - acc: 0.5008\n",
      "Epoch 150/300\n",
      "55440/55440 [==============================] - 3s 60us/step - loss: 8.0454 - acc: 0.5008\n",
      "Epoch 151/300\n",
      "55440/55440 [==============================] - 3s 62us/step - loss: 8.0454 - acc: 0.5008\n",
      "Epoch 152/300\n",
      "55440/55440 [==============================] - 3s 56us/step - loss: 8.0454 - acc: 0.5008\n",
      "Epoch 153/300\n",
      "55440/55440 [==============================] - 4s 67us/step - loss: 8.0454 - acc: 0.5008\n",
      "Epoch 154/300\n"
     ]
    },
    {
     "name": "stdout",
     "output_type": "stream",
     "text": [
      "55440/55440 [==============================] - 3s 62us/step - loss: 8.0454 - acc: 0.5008\n",
      "Epoch 155/300\n",
      "55440/55440 [==============================] - 3s 57us/step - loss: 8.0454 - acc: 0.5008: 0s - loss: 8.0437 - acc: 0.\n",
      "Epoch 156/300\n",
      "55440/55440 [==============================] - 3s 59us/step - loss: 8.0454 - acc: 0.5008\n",
      "Epoch 157/300\n",
      "55440/55440 [==============================] - 3s 52us/step - loss: 8.0454 - acc: 0.5008: 1s - l\n",
      "Epoch 158/300\n",
      "55440/55440 [==============================] - 3s 63us/step - loss: 8.0454 - acc: 0.5008\n",
      "Epoch 159/300\n",
      "55440/55440 [==============================] - 3s 62us/step - loss: 8.0454 - acc: 0.5008\n",
      "Epoch 160/300\n",
      "55440/55440 [==============================] - 3s 58us/step - loss: 8.0454 - acc: 0.5008\n",
      "Epoch 161/300\n",
      "55440/55440 [==============================] - 3s 59us/step - loss: 8.0454 - acc: 0.5008: 1s - \n",
      "Epoch 162/300\n",
      "55440/55440 [==============================] - 3s 54us/step - loss: 8.0454 - acc: 0.5008: 1s - loss:\n",
      "Epoch 163/300\n",
      "55440/55440 [==============================] - 3s 60us/step - loss: 8.0454 - acc: 0.5008: 2s - loss: 8.0677\n",
      "Epoch 164/300\n",
      "55440/55440 [==============================] - 3s 56us/step - loss: 8.0454 - acc: 0.5008ETA: 0s - loss: 8.0432 - acc: 0.5\n",
      "Epoch 165/300\n",
      "55440/55440 [==============================] - 3s 59us/step - loss: 8.0454 - acc: 0.5008\n",
      "Epoch 166/300\n",
      "55440/55440 [==============================] - 3s 63us/step - loss: 8.0454 - acc: 0.5008\n",
      "Epoch 167/300\n",
      "55440/55440 [==============================] - 3s 56us/step - loss: 8.0454 - acc: 0.5008: 0s - loss: 8.0307 \n",
      "Epoch 168/300\n",
      "55440/55440 [==============================] - 3s 59us/step - loss: 8.0454 - acc: 0.5008: 2s - loss: 7.9743\n",
      "Epoch 169/300\n",
      "55440/55440 [==============================] - 3s 55us/step - loss: 8.0454 - acc: 0.5008: 0s - loss: 8.0265 - acc: 0.502 - ETA: 0s - loss: 8\n",
      "Epoch 170/300\n",
      "55440/55440 [==============================] - 3s 63us/step - loss: 8.0454 - acc: 0.5008\n",
      "Epoch 171/300\n",
      "55440/55440 [==============================] - 4s 65us/step - loss: 8.0454 - acc: 0.5008\n",
      "Epoch 172/300\n",
      "55440/55440 [==============================] - 3s 56us/step - loss: 8.0454 - acc: 0.5008\n",
      "Epoch 173/300\n",
      "55440/55440 [==============================] - 4s 64us/step - loss: 8.0454 - acc: 0.5008\n",
      "Epoch 174/300\n",
      "55440/55440 [==============================] - 3s 60us/step - loss: 8.0454 - acc: 0.5008\n",
      "Epoch 175/300\n",
      "55440/55440 [==============================] - 3s 57us/step - loss: 8.0454 - acc: 0.5008\n",
      "Epoch 176/300\n",
      "55440/55440 [==============================] - 3s 61us/step - loss: 8.0454 - acc: 0.5008\n",
      "Epoch 177/300\n",
      "55440/55440 [==============================] - 3s 60us/step - loss: 8.0454 - acc: 0.5008: 0s - loss: 8.0509 - acc: \n",
      "Epoch 178/300\n",
      "55440/55440 [==============================] - 3s 61us/step - loss: 8.0454 - acc: 0.5008\n",
      "Epoch 179/300\n",
      "55440/55440 [==============================] - 3s 61us/step - loss: 8.0454 - acc: 0.5008\n",
      "Epoch 180/300\n",
      "55440/55440 [==============================] - 3s 55us/step - loss: 8.0454 - acc: 0.5008: 0s - loss: 8.0394 - \n",
      "Epoch 181/300\n",
      "55440/55440 [==============================] - 3s 58us/step - loss: 8.0454 - acc: 0.5008\n",
      "Epoch 182/300\n",
      "55440/55440 [==============================] - 3s 59us/step - loss: 8.0454 - acc: 0.5008\n",
      "Epoch 183/300\n",
      "55440/55440 [==============================] - 4s 64us/step - loss: 8.0454 - acc: 0.5008\n",
      "Epoch 184/300\n",
      "55440/55440 [==============================] - 3s 60us/step - loss: 8.0454 - acc: 0.5008\n",
      "Epoch 185/300\n",
      "55440/55440 [==============================] - 3s 56us/step - loss: 8.0454 - acc: 0.5008: 0s - loss: 8.0471 - acc: 0.5\n",
      "Epoch 186/300\n",
      "55440/55440 [==============================] - 3s 61us/step - loss: 8.0454 - acc: 0.5008\n",
      "Epoch 187/300\n",
      "55440/55440 [==============================] - 3s 57us/step - loss: 8.0454 - acc: 0.5008\n",
      "Epoch 188/300\n",
      "55440/55440 [==============================] - 3s 59us/step - loss: 8.0454 - acc: 0.5008\n",
      "Epoch 189/300\n",
      "55440/55440 [==============================] - 3s 60us/step - loss: 8.0454 - acc: 0.5008: 1s - loss: 8.0600 - acc: 0.49 - ETA: 1s - loss: 8.0645 - ac - ETA: 0s - loss: 8.038\n",
      "Epoch 190/300\n",
      "55440/55440 [==============================] - 4s 65us/step - loss: 8.0454 - acc: 0.5008\n",
      "Epoch 191/300\n",
      "55440/55440 [==============================] - 4s 70us/step - loss: 8.0454 - acc: 0.5008\n",
      "Epoch 192/300\n",
      "55440/55440 [==============================] - 4s 66us/step - loss: 8.0454 - acc: 0.5008\n",
      "Epoch 193/300\n",
      "55440/55440 [==============================] - 4s 64us/step - loss: 8.0454 - acc: 0.5008\n",
      "Epoch 194/300\n",
      "55440/55440 [==============================] - 4s 68us/step - loss: 8.0454 - acc: 0.5008\n",
      "Epoch 195/300\n",
      "55440/55440 [==============================] - 4s 65us/step - loss: 8.0454 - acc: 0.5008\n",
      "Epoch 196/300\n",
      "55440/55440 [==============================] - 3s 58us/step - loss: 8.0454 - acc: 0.5008\n",
      "Epoch 197/300\n",
      "55440/55440 [==============================] - 4s 64us/step - loss: 8.0454 - acc: 0.5008\n",
      "Epoch 198/300\n",
      "55440/55440 [==============================] - 3s 60us/step - loss: 8.0454 - acc: 0.5008\n",
      "Epoch 199/300\n",
      "55440/55440 [==============================] - 3s 59us/step - loss: 8.0454 - acc: 0.5008\n",
      "Epoch 200/300\n",
      "55440/55440 [==============================] - 3s 62us/step - loss: 8.0454 - acc: 0.5008\n",
      "Epoch 201/300\n",
      "55440/55440 [==============================] - 3s 59us/step - loss: 8.0454 - acc: 0.5008\n",
      "Epoch 202/300\n",
      "55440/55440 [==============================] - 3s 62us/step - loss: 8.0454 - acc: 0.5008\n",
      "Epoch 203/300\n",
      "55440/55440 [==============================] - 3s 57us/step - loss: 8.0454 - acc: 0.5008\n",
      "Epoch 204/300\n",
      "55440/55440 [==============================] - 3s 58us/step - loss: 8.0454 - acc: 0.5008\n",
      "Epoch 205/300\n",
      "55440/55440 [==============================] - 3s 63us/step - loss: 8.0454 - acc: 0.5008\n",
      "Epoch 206/300\n",
      "55440/55440 [==============================] - 3s 62us/step - loss: 8.0454 - acc: 0.5008\n",
      "Epoch 207/300\n",
      "55440/55440 [==============================] - 3s 60us/step - loss: 8.0454 - acc: 0.5008\n",
      "Epoch 208/300\n",
      "55440/55440 [==============================] - 3s 61us/step - loss: 8.0454 - acc: 0.5008: 0s - loss: 8.05\n",
      "Epoch 209/300\n",
      "55440/55440 [==============================] - 3s 58us/step - loss: 8.0454 - acc: 0.5008\n",
      "Epoch 210/300\n",
      "55440/55440 [==============================] - 3s 60us/step - loss: 8.0454 - acc: 0.5008\n",
      "Epoch 211/300\n",
      "55440/55440 [==============================] - 3s 55us/step - loss: 8.0454 - acc: 0.5008: 0s - loss: 8.0474 \n",
      "Epoch 212/300\n",
      "55440/55440 [==============================] - 4s 64us/step - loss: 8.0454 - acc: 0.5008: 0s - loss: 8.0450 - acc\n",
      "Epoch 213/300\n",
      "55440/55440 [==============================] - 4s 65us/step - loss: 8.0454 - acc: 0.5008\n",
      "Epoch 214/300\n",
      "55440/55440 [==============================] - 3s 60us/step - loss: 8.0454 - acc: 0.5008\n",
      "Epoch 215/300\n",
      "55440/55440 [==============================] - 3s 62us/step - loss: 8.0454 - acc: 0.5008\n",
      "Epoch 216/300\n",
      "55440/55440 [==============================] - 3s 58us/step - loss: 8.0454 - acc: 0.5008: 1\n",
      "Epoch 217/300\n",
      "55440/55440 [==============================] - 3s 58us/step - loss: 8.0454 - acc: 0.5008\n",
      "Epoch 218/300\n",
      "55440/55440 [==============================] - 3s 60us/step - loss: 8.0454 - acc: 0.5008\n",
      "Epoch 219/300\n",
      "55440/55440 [==============================] - 3s 59us/step - loss: 8.0454 - acc: 0.5008\n",
      "Epoch 220/300\n",
      "55440/55440 [==============================] - 4s 64us/step - loss: 8.0454 - acc: 0.5008\n",
      "Epoch 221/300\n",
      "55440/55440 [==============================] - 3s 56us/step - loss: 8.0454 - acc: 0.5008\n",
      "Epoch 222/300\n",
      "55440/55440 [==============================] - 3s 58us/step - loss: 8.0454 - acc: 0.5008: 0s - loss: 8.0463 - acc:\n",
      "Epoch 223/300\n",
      "55440/55440 [==============================] - 3s 60us/step - loss: 8.0454 - acc: 0.5008\n",
      "Epoch 224/300\n",
      "55440/55440 [==============================] - 3s 59us/step - loss: 8.0454 - acc: 0.5008: 1\n",
      "Epoch 225/300\n",
      "55440/55440 [==============================] - 3s 62us/step - loss: 8.0454 - acc: 0.5008\n",
      "Epoch 226/300\n",
      "55440/55440 [==============================] - 3s 56us/step - loss: 8.0454 - acc: 0.5008\n",
      "Epoch 227/300\n",
      "55440/55440 [==============================] - 3s 58us/step - loss: 8.0454 - acc: 0.5008: 1s - lo\n",
      "Epoch 228/300\n",
      "55440/55440 [==============================] - 3s 61us/step - loss: 8.0454 - acc: 0.5008\n",
      "Epoch 229/300\n"
     ]
    },
    {
     "name": "stdout",
     "output_type": "stream",
     "text": [
      "55440/55440 [==============================] - 3s 55us/step - loss: 8.0454 - acc: 0.5008\n",
      "Epoch 230/300\n",
      "55440/55440 [==============================] - 3s 59us/step - loss: 8.0454 - acc: 0.5008\n",
      "Epoch 231/300\n",
      "55440/55440 [==============================] - 3s 53us/step - loss: 8.0454 - acc: 0.5008\n",
      "Epoch 232/300\n",
      "55440/55440 [==============================] - 3s 54us/step - loss: 8.0454 - acc: 0.5008\n",
      "Epoch 233/300\n",
      "55440/55440 [==============================] - 3s 57us/step - loss: 8.0454 - acc: 0.5008\n",
      "Epoch 234/300\n",
      "55440/55440 [==============================] - 3s 60us/step - loss: 8.0454 - acc: 0.5008\n",
      "Epoch 235/300\n",
      "55440/55440 [==============================] - 3s 60us/step - loss: 8.0454 - acc: 0.5008\n",
      "Epoch 236/300\n",
      "55440/55440 [==============================] - 3s 54us/step - loss: 8.0454 - acc: 0.5008: 0s - loss: 8.0313 - acc: 0.\n",
      "Epoch 237/300\n",
      "55440/55440 [==============================] - 3s 58us/step - loss: 8.0454 - acc: 0.5008\n",
      "Epoch 238/300\n",
      "55440/55440 [==============================] - 3s 52us/step - loss: 8.0454 - acc: 0.5008\n",
      "Epoch 239/300\n",
      "55440/55440 [==============================] - 3s 56us/step - loss: 8.0454 - acc: 0.5008\n",
      "Epoch 240/300\n",
      "55440/55440 [==============================] - 3s 60us/step - loss: 8.0454 - acc: 0.5008\n",
      "Epoch 241/300\n",
      "55440/55440 [==============================] - 3s 58us/step - loss: 8.0454 - acc: 0.5008\n",
      "Epoch 242/300\n",
      "55440/55440 [==============================] - 3s 59us/step - loss: 8.0454 - acc: 0.5008: 0s - loss: 8.0417 - acc: 0.501 - ETA: 0s - loss: 8\n",
      "Epoch 243/300\n",
      "55440/55440 [==============================] - 3s 51us/step - loss: 8.0454 - acc: 0.5008\n",
      "Epoch 244/300\n",
      "55440/55440 [==============================] - 3s 57us/step - loss: 8.0454 - acc: 0.5008\n",
      "Epoch 245/300\n",
      "55440/55440 [==============================] - 3s 55us/step - loss: 8.0454 - acc: 0.5008\n",
      "Epoch 246/300\n",
      "55440/55440 [==============================] - 3s 60us/step - loss: 8.0454 - acc: 0.5008: 0s - loss: 8.0340 -\n",
      "Epoch 247/300\n",
      "55440/55440 [==============================] - 3s 60us/step - loss: 8.0454 - acc: 0.5008\n",
      "Epoch 248/300\n",
      "55440/55440 [==============================] - 3s 54us/step - loss: 8.0454 - acc: 0.5008\n",
      "Epoch 249/300\n",
      "55440/55440 [==============================] - 3s 60us/step - loss: 8.0454 - acc: 0.5008\n",
      "Epoch 250/300\n",
      "55440/55440 [==============================] - 3s 56us/step - loss: 8.0454 - acc: 0.5008\n",
      "Epoch 251/300\n",
      "55440/55440 [==============================] - 3s 56us/step - loss: 8.0454 - acc: 0.5008\n",
      "Epoch 252/300\n",
      "55440/55440 [==============================] - 3s 56us/step - loss: 8.0454 - acc: 0.5008\n",
      "Epoch 253/300\n",
      "55440/55440 [==============================] - 3s 61us/step - loss: 8.0454 - acc: 0.5008\n",
      "Epoch 254/300\n",
      "55440/55440 [==============================] - 3s 61us/step - loss: 8.0454 - acc: 0.5008\n",
      "Epoch 255/300\n",
      "55440/55440 [==============================] - 3s 56us/step - loss: 8.0454 - acc: 0.5008\n",
      "Epoch 256/300\n",
      "55440/55440 [==============================] - 3s 58us/step - loss: 8.0454 - acc: 0.5008\n",
      "Epoch 257/300\n",
      "55440/55440 [==============================] - 3s 54us/step - loss: 8.0454 - acc: 0.5008\n",
      "Epoch 258/300\n",
      "55440/55440 [==============================] - 3s 55us/step - loss: 8.0454 - acc: 0.5008\n",
      "Epoch 259/300\n",
      "55440/55440 [==============================] - 3s 57us/step - loss: 8.0454 - acc: 0.5008\n",
      "Epoch 260/300\n",
      "55440/55440 [==============================] - 3s 60us/step - loss: 8.0454 - acc: 0.5008\n",
      "Epoch 261/300\n",
      "55440/55440 [==============================] - 4s 67us/step - loss: 8.0454 - acc: 0.5008\n",
      "Epoch 262/300\n",
      "55440/55440 [==============================] - 4s 63us/step - loss: 8.0454 - acc: 0.5008\n",
      "Epoch 263/300\n",
      "55440/55440 [==============================] - 3s 62us/step - loss: 8.0454 - acc: 0.5008\n",
      "Epoch 264/300\n",
      "55440/55440 [==============================] - 4s 64us/step - loss: 8.0454 - acc: 0.5008\n",
      "Epoch 265/300\n",
      "55440/55440 [==============================] - 4s 65us/step - loss: 8.0454 - acc: 0.5008\n",
      "Epoch 266/300\n",
      "55440/55440 [==============================] - 4s 68us/step - loss: 8.0454 - acc: 0.5008\n",
      "Epoch 267/300\n",
      "55440/55440 [==============================] - 4s 68us/step - loss: 8.0454 - acc: 0.5008\n",
      "Epoch 268/300\n",
      "55440/55440 [==============================] - 4s 65us/step - loss: 8.0454 - acc: 0.5008\n",
      "Epoch 269/300\n",
      "55440/55440 [==============================] - 4s 63us/step - loss: 8.0454 - acc: 0.5008\n",
      "Epoch 270/300\n",
      "55440/55440 [==============================] - 3s 55us/step - loss: 8.0454 - acc: 0.5008\n",
      "Epoch 271/300\n",
      "55440/55440 [==============================] - 3s 59us/step - loss: 8.0454 - acc: 0.5008\n",
      "Epoch 272/300\n",
      "55440/55440 [==============================] - 3s 63us/step - loss: 8.0454 - acc: 0.5008\n",
      "Epoch 273/300\n",
      "55440/55440 [==============================] - 3s 60us/step - loss: 8.0454 - acc: 0.5008\n",
      "Epoch 274/300\n",
      "55440/55440 [==============================] - 3s 59us/step - loss: 8.0454 - acc: 0.5008\n",
      "Epoch 275/300\n",
      "55440/55440 [==============================] - 3s 61us/step - loss: 8.0454 - acc: 0.5008\n",
      "Epoch 276/300\n",
      "55440/55440 [==============================] - 3s 58us/step - loss: 8.0454 - acc: 0.5008\n",
      "Epoch 277/300\n",
      "55440/55440 [==============================] - ETA: 0s - loss: 8.0517 - acc: 0.5005- ETA: 0s - loss: 8.0 - 3s 53us/step - loss: 8.0454 - acc: 0.5008\n",
      "Epoch 278/300\n",
      "55440/55440 [==============================] - 4s 66us/step - loss: 8.0454 - acc: 0.5008\n",
      "Epoch 279/300\n",
      "55440/55440 [==============================] - 3s 61us/step - loss: 8.0454 - acc: 0.5008: 0s - loss: 8.0611 - \n",
      "Epoch 280/300\n",
      "55440/55440 [==============================] - 3s 57us/step - loss: 8.0454 - acc: 0.5008\n",
      "Epoch 281/300\n",
      "55440/55440 [==============================] - 3s 60us/step - loss: 8.0454 - acc: 0.5008: 1s - \n",
      "Epoch 282/300\n",
      "55440/55440 [==============================] - 3s 52us/step - loss: 8.0454 - acc: 0.5008\n",
      "Epoch 283/300\n",
      "55440/55440 [==============================] - 3s 57us/step - loss: 8.0454 - acc: 0.5008: 1s - loss: 8 - ETA: 0s - loss: 8.0524 - a\n",
      "Epoch 284/300\n",
      "55440/55440 [==============================] - 4s 65us/step - loss: 8.0454 - acc: 0.5008\n",
      "Epoch 285/300\n",
      "55440/55440 [==============================] - 4s 64us/step - loss: 8.0454 - acc: 0.5008\n",
      "Epoch 286/300\n",
      "55440/55440 [==============================] - 3s 60us/step - loss: 8.0454 - acc: 0.5008: 0s - loss: 8.0303 - acc: 0.5 - ETA: 0s - loss: 8.0300 -\n",
      "Epoch 287/300\n",
      "55440/55440 [==============================] - 3s 54us/step - loss: 8.0454 - acc: 0.5008: 0s - loss: 8.0428 - acc: \n",
      "Epoch 288/300\n",
      "55440/55440 [==============================] - 3s 61us/step - loss: 8.0454 - acc: 0.5008\n",
      "Epoch 289/300\n",
      "55440/55440 [==============================] - 3s 56us/step - loss: 8.0454 - acc: 0.5008:  - ETA: 1s - l\n",
      "Epoch 290/300\n",
      "55440/55440 [==============================] - 3s 58us/step - loss: 8.0454 - acc: 0.5008\n",
      "Epoch 291/300\n",
      "55440/55440 [==============================] - 3s 61us/step - loss: 8.0454 - acc: 0.5008\n",
      "Epoch 292/300\n",
      "55440/55440 [==============================] - 3s 62us/step - loss: 8.0454 - acc: 0.5008\n",
      "Epoch 293/300\n",
      "55440/55440 [==============================] - 4s 66us/step - loss: 8.0454 - acc: 0.5008\n",
      "Epoch 294/300\n",
      "55440/55440 [==============================] - 3s 62us/step - loss: 8.0454 - acc: 0.5008\n",
      "Epoch 295/300\n",
      "55440/55440 [==============================] - 3s 62us/step - loss: 8.0454 - acc: 0.5008\n",
      "Epoch 296/300\n",
      "55440/55440 [==============================] - 4s 63us/step - loss: 8.0454 - acc: 0.5008\n",
      "Epoch 297/300\n",
      "55440/55440 [==============================] - 3s 63us/step - loss: 8.0454 - acc: 0.5008\n",
      "Epoch 298/300\n",
      "55440/55440 [==============================] - 3s 61us/step - loss: 8.0454 - acc: 0.5008\n",
      "Epoch 299/300\n",
      "55440/55440 [==============================] - 4s 65us/step - loss: 8.0454 - acc: 0.5008\n",
      "Epoch 300/300\n",
      "55440/55440 [==============================] - 3s 58us/step - loss: 8.0454 - acc: 0.5008\n"
     ]
    },
    {
     "data": {
      "text/plain": [
       "<keras.callbacks.History at 0x59ee968390>"
      ]
     },
     "execution_count": 19,
     "metadata": {},
     "output_type": "execute_result"
    }
   ],
   "source": [
    "model.fit(x_train,y_train,epochs=300)"
   ]
  },
  {
   "cell_type": "code",
   "execution_count": 20,
   "metadata": {
    "collapsed": true
   },
   "outputs": [],
   "source": [
    "y_pred = model.predict(x_test)"
   ]
  },
  {
   "cell_type": "code",
   "execution_count": 22,
   "metadata": {},
   "outputs": [],
   "source": [
    "rounded = [round(x[0]) for x in y_pred]\n",
    "\n",
    "y_pred = rounded"
   ]
  },
  {
   "cell_type": "code",
   "execution_count": 23,
   "metadata": {},
   "outputs": [
    {
     "data": {
      "text/plain": [
       "49.869999999999997"
      ]
     },
     "execution_count": 23,
     "metadata": {},
     "output_type": "execute_result"
    }
   ],
   "source": [
    "round(accuracy_score(y_test,y_pred)*100 ,2)"
   ]
  },
  {
   "cell_type": "code",
   "execution_count": null,
   "metadata": {
    "collapsed": true
   },
   "outputs": [],
   "source": []
  }
 ],
 "metadata": {
  "kernelspec": {
   "display_name": "Python 3",
   "language": "python",
   "name": "python3"
  },
  "language_info": {
   "codemirror_mode": {
    "name": "ipython",
    "version": 3
   },
   "file_extension": ".py",
   "mimetype": "text/x-python",
   "name": "python",
   "nbconvert_exporter": "python",
   "pygments_lexer": "ipython3",
   "version": "3.6.8"
  }
 },
 "nbformat": 4,
 "nbformat_minor": 2
}
